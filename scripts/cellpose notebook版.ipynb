{
 "cells": [
  {
   "cell_type": "code",
   "execution_count": 1,
   "id": "d6c51daf",
   "metadata": {},
   "outputs": [
    {
     "name": "stdout",
     "output_type": "stream",
     "text": [
      "creating new log file\n",
      "2025-06-25 10:08:55,884 [INFO] WRITING LOG OUTPUT TO C:\\Users\\75695\\.cellpose\\run.log\n",
      "2025-06-25 10:08:55,885 [INFO] \n",
      "cellpose version: \t3.1.1.2 \n",
      "platform:       \twin32 \n",
      "python version: \t3.10.18 \n",
      "torch version:  \t2.7.1+cpu\n",
      "2025-06-25 10:08:55,908 [INFO] Neither TORCH CUDA nor MPS version not installed/working.\n",
      "2025-06-25 10:08:55,909 [INFO] >>>> using CPU\n",
      "2025-06-25 10:08:55,910 [INFO] >>>> using CPU\n",
      "2025-06-25 10:08:55,984 [INFO] >>>> no model weights loaded\n"
     ]
    }
   ],
   "source": [
    "import numpy as np\n",
    "from cellpose import models, core, io, plot\n",
    "from pathlib import Path\n",
    "from tqdm import trange\n",
    "from natsort import natsorted\n",
    "\n",
    "\n",
    "io.logger_setup() # run this to get printing of progress\n",
    "\n",
    "#Check if colab notebook instance has GPU access\n",
    "\n",
    "model = models.CellposeModel(gpu=True)"
   ]
  },
  {
   "cell_type": "code",
   "execution_count": 3,
   "id": "40a1768c",
   "metadata": {},
   "outputs": [
    {
     "name": "stdout",
     "output_type": "stream",
     "text": [
      "2 images in folder:\n",
      "t000001xy1c1.tif\n",
      "t000001xy7c1.tif\n"
     ]
    }
   ],
   "source": [
    "# *** change to your google drive folder path ***\n",
    "dir = r\"C:\\Users\\75695\\Desktop\\chot\"\n",
    "dir = Path(dir)\n",
    "if not dir.exists():\n",
    "  raise FileNotFoundError(\"directory does not exist\")\n",
    "\n",
    "# *** change to your image extension ***\n",
    "image_ext = \".tif\"\n",
    "\n",
    "# list all files\n",
    "files = natsorted([f for f in dir.glob(\"*\"+image_ext) if \"_seg\" not in f.name and \"_flows\" not in f.name])\n",
    "\n",
    "if(len(files)==0):\n",
    "  raise FileNotFoundError(\"no image files found, did you specify the correct folder and extension?\")\n",
    "else:\n",
    "  print(f\"{len(files)} images in folder:\")\n",
    "\n",
    "for f in files:\n",
    "  print(f.name)"
   ]
  },
  {
   "cell_type": "code",
   "execution_count": 4,
   "id": "6621d4c8",
   "metadata": {},
   "outputs": [],
   "source": [
    "# 假设 img 是 (H, W) 形式的灰度图\n",
    "flow_threshold = 0.4\n",
    "cellprob_threshold = 0.0\n",
    "tile_norm_blocksize = 0\n"
   ]
  },
  {
   "cell_type": "code",
   "execution_count": 5,
   "id": "c56b6c24",
   "metadata": {},
   "outputs": [
    {
     "name": "stderr",
     "output_type": "stream",
     "text": [
      "100%|██████████| 2/2 [00:02<00:00,  1.10s/it]\n"
     ]
    }
   ],
   "source": [
    "masks_ext = \".png\" if image_ext == \".png\" else \".tif\"\n",
    "\n",
    "for i in trange(len(files)):\n",
    "    f = files[i]\n",
    "    img = io.imread(f)\n",
    "    masks, flows, styles = model.eval(img, batch_size=32, flow_threshold=flow_threshold, cellprob_threshold=cellprob_threshold,\n",
    "                                  normalize={\"tile_norm_blocksize\": tile_norm_blocksize})\n",
    "    masks_uint16 = masks.astype(np.uint16)\n",
    "    # 供 GUI 使用的掩膜文件\n",
    "    mask_img_path = f.parent / (f.stem + \"_masks\" + masks_ext)\n",
    "    io.imsave(mask_img_path, masks_uint16)\n",
    "    # GUI 读取的 .npy 掩膜数据（仿 GUI 保存格式）\n",
    "    mask_npy_path = f.parent / (f.stem + \"_seg.npy\")\n",
    "    mask_data = {\n",
    "        'masks': masks.astype(np.uint16),\n",
    "        'outlines': None,\n",
    "        'chan_choose': None,\n",
    "        'ismanual': False\n",
    "    }\n",
    "    np.save(mask_npy_path, mask_data)"
   ]
  }
 ],
 "metadata": {
  "kernelspec": {
   "display_name": "cellpose3",
   "language": "python",
   "name": "python3"
  },
  "language_info": {
   "codemirror_mode": {
    "name": "ipython",
    "version": 3
   },
   "file_extension": ".py",
   "mimetype": "text/x-python",
   "name": "python",
   "nbconvert_exporter": "python",
   "pygments_lexer": "ipython3",
   "version": "3.10.18"
  }
 },
 "nbformat": 4,
 "nbformat_minor": 5
}
